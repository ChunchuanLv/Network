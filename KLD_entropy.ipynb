{
 "cells": [
  {
   "cell_type": "code",
   "execution_count": 1,
   "metadata": {
    "collapsed": false
   },
   "outputs": [],
   "source": [
    "import networkx as nx\n",
    "import numpy as np\n",
    "import scipy.stats"
   ]
  },
  {
   "cell_type": "code",
   "execution_count": 78,
   "metadata": {
    "collapsed": true
   },
   "outputs": [],
   "source": [
    "def KLD_entropy(graph, characteristic, characteristic_random_logprob):\n",
    "    degree_total_g = sum(graph.degree().values())\n",
    "    n = len(graph.nodes())\n",
    "    p = float(degree_total_g) / float(n) / float(n-1)\n",
    "    random_graph = nx.erdos_renyi_graph(n, p)\n",
    "    a = characteristic(graph)\n",
    "    b = characteristic_random_logprob(n, p)\n",
    "    S = 0\n",
    "    S += np.sum(np.multiply(a, np.log(a)))\n",
    "    S += np.sum(np.multiply(-a, b))\n",
    "    return S"
   ]
  },
  {
   "cell_type": "code",
   "execution_count": 76,
   "metadata": {
    "collapsed": true
   },
   "outputs": [],
   "source": [
    "def degree_distribution(graph):\n",
    "    a = np.bincount(graph.degree().values())\n",
    "    a.resize(len(graph.nodes()))\n",
    "    a[a == 0] = 1\n",
    "    a = a.astype(np.float)\n",
    "    a = np.divide(a, np.sum(a))\n",
    "    return a"
   ]
  },
  {
   "cell_type": "code",
   "execution_count": 58,
   "metadata": {
    "collapsed": false
   },
   "outputs": [],
   "source": [
    "def degree_distribution_random_logprob(n, p):\n",
    "    pdf = []\n",
    "    for i in xrange(n):\n",
    "        pdf.append(scipy.stats.binom.logpmf(i, n-1, p))\n",
    "    \n",
    "    return np.array(pdf)"
   ]
  },
  {
   "cell_type": "code",
   "execution_count": 82,
   "metadata": {
    "collapsed": true
   },
   "outputs": [],
   "source": [
    "K_5 = nx.complete_graph(1000)\n",
    "maze=nx.sedgewick_maze_graph()\n",
    "rg = nx.erdos_renyi_graph(1000, 0.1)\n",
    "k_reg = nx.random_regular_graph(999, 1000)"
   ]
  },
  {
   "cell_type": "code",
   "execution_count": 83,
   "metadata": {
    "collapsed": false,
    "scrolled": true
   },
   "outputs": [
    {
     "data": {
      "text/plain": [
       "inf"
      ]
     },
     "execution_count": 83,
     "metadata": {},
     "output_type": "execute_result"
    }
   ],
   "source": [
    "KLD_entropy(k_reg, degree_distribution, degree_distribution_random_logprob)"
   ]
  }
 ],
 "metadata": {
  "kernelspec": {
   "display_name": "Python 2",
   "language": "python",
   "name": "python2"
  },
  "language_info": {
   "codemirror_mode": {
    "name": "ipython",
    "version": 2
   },
   "file_extension": ".py",
   "mimetype": "text/x-python",
   "name": "python",
   "nbconvert_exporter": "python",
   "pygments_lexer": "ipython2",
   "version": "2.7.10"
  }
 },
 "nbformat": 4,
 "nbformat_minor": 0
}
