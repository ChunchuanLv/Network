{
 "cells": [
  {
   "cell_type": "code",
   "execution_count": 1,
   "metadata": {
    "collapsed": false
   },
   "outputs": [],
   "source": [
    "import networkx as nx\n",
    "import numpy as np\n",
    "import scipy.stats\n",
    "import pickle\n",
    "%matplotlib inline"
   ]
  },
  {
   "cell_type": "code",
   "execution_count": 28,
   "metadata": {
    "collapsed": true
   },
   "outputs": [],
   "source": [
    "def KLD_entropy(graph, characteristic, characteristic_random_logprob):\n",
    "    degree_total_g = sum(graph.degree().values())\n",
    "    n = len(graph.nodes())\n",
    "    p = float(degree_total_g) / float(n) / float(n-1)\n",
    "    random_graph = nx.erdos_renyi_graph(n, p)\n",
    "    a = characteristic(graph)\n",
    "    b = characteristic_random_logprob(n, p)\n",
    "    a_non_zero = a[np.nonzero(a)]\n",
    "    S = 0\n",
    "    S += np.sum(np.multiply(a_non_zero, np.log(a_non_zero)))\n",
    "    S += np.sum(np.multiply(-a, b))\n",
    "    return S"
   ]
  },
  {
   "cell_type": "code",
   "execution_count": 73,
   "metadata": {
    "collapsed": true
   },
   "outputs": [],
   "source": [
    "def KLD_entropy_laplacian(graph, characteristic, characteristic_random_log):\n",
    "    degree_total_g = sum(graph.degree().values())\n",
    "    n = len(graph.nodes())\n",
    "    p = float(degree_total_g) / float(n) / float(n-1)\n",
    "    random_graph = nx.erdos_renyi_graph(n, p)\n",
    "    a = characteristic(graph)\n",
    "    b = characteristic_random_log(random_graph)\n",
    "    a_non_zero = a[np.nonzero(a)]\n",
    "    S = 0\n",
    "    S += np.sum(np.multiply(a_non_zero, np.log(a_non_zero)))\n",
    "    S += np.sum(np.multiply(-a, b))\n",
    "    return S"
   ]
  },
  {
   "cell_type": "code",
   "execution_count": 30,
   "metadata": {
    "collapsed": true
   },
   "outputs": [],
   "source": [
    "def degree_distribution(graph):\n",
    "    a = np.bincount(graph.degree().values())\n",
    "    a.resize(len(graph.nodes()))\n",
    "    a = a.astype(np.float)\n",
    "    a = np.divide(a, np.sum(a))\n",
    "    return a"
   ]
  },
  {
   "cell_type": "code",
   "execution_count": 31,
   "metadata": {
    "collapsed": false
   },
   "outputs": [],
   "source": [
    "def degree_distribution_random_logprob(n, p):\n",
    "    pdf = []\n",
    "    for i in xrange(n):\n",
    "        pdf.append(scipy.stats.binom.logpmf(i, n-1, p))\n",
    "        \n",
    "    pdf = np.array(pdf)\n",
    "    \n",
    "    pdf[pdf == -np.inf] = np.iinfo(np.int).min\n",
    "    \n",
    "    return pdf"
   ]
  },
  {
   "cell_type": "code",
   "execution_count": 25,
   "metadata": {
    "collapsed": false,
    "scrolled": false
   },
   "outputs": [],
   "source": [
    "n = 30\n",
    "K_5 = nx.complete_graph(n)\n",
    "maze=nx.sedgewick_maze_graph()\n",
    "k_reg = nx.random_regular_graph(n/2, n)\n",
    "bull = nx.bull_graph()\n",
    "small_world = nx.newman_watts_strogatz_graph(n, 2, 0.1)"
   ]
  },
  {
   "cell_type": "code",
   "execution_count": 33,
   "metadata": {
    "collapsed": false
   },
   "outputs": [
    {
     "data": {
      "text/plain": [
       "array([ -3.48063906e-16,   5.15363646e-02,   1.94031510e-01,\n",
       "         2.59571692e-01,   3.22385147e-01,   4.00214083e-01,\n",
       "         5.83196772e-01,   8.17136743e-01,   8.34523838e-01,\n",
       "         1.07199275e+00,   1.18176545e+00,   1.38196601e+00,\n",
       "         1.46439062e+00,   1.91380991e+00,   2.09147534e+00,\n",
       "         2.38312101e+00,   2.44595670e+00,   2.74147163e+00,\n",
       "         2.76634344e+00,   3.00000000e+00,   3.25373258e+00,\n",
       "         3.38014595e+00,   3.53158383e+00,   3.61803399e+00,\n",
       "         3.76961908e+00,   3.88328625e+00,   3.96848017e+00,\n",
       "         4.25906268e+00,   4.82874192e+00,   5.60242453e+00])"
      ]
     },
     "execution_count": 33,
     "metadata": {},
     "output_type": "execute_result"
    }
   ],
   "source": [
    "nx.laplacian_spectrum(small_world)"
   ]
  },
  {
   "cell_type": "code",
   "execution_count": 26,
   "metadata": {
    "collapsed": false
   },
   "outputs": [
    {
     "data": {
      "image/png": "[encoded data removed]",
      "text/plain": [
       "<matplotlib.figure.Figure at 0x116a053d0>"
      ]
     },
     "metadata": {},
     "output_type": "display_data"
    }
   ],
   "source": [
    "nx.draw(small_world)"
   ]
  },
  {
   "cell_type": "code",
   "execution_count": null,
   "metadata": {
    "collapsed": true
   },
   "outputs": [],
   "source": [
    "rg = nx.erdos_renyi_graph(n, 0.1)"
   ]
  },
  {
   "cell_type": "code",
   "execution_count": 32,
   "metadata": {
    "collapsed": false,
    "scrolled": true
   },
   "outputs": [
    {
     "data": {
      "text/plain": [
       "0.81889001684532958"
      ]
     },
     "execution_count": 32,
     "metadata": {},
     "output_type": "execute_result"
    }
   ],
   "source": [
    "KLD_entropy(small_world, degree_distribution, degree_distribution_random_logprob)"
   ]
  },
  {
   "cell_type": "code",
   "execution_count": 65,
   "metadata": {
    "collapsed": true
   },
   "outputs": [],
   "source": [
    "def laplacian_spectrum_log(graph):\n",
    "    a = nx.laplacian_spectrum(graph)\n",
    "    a[a < 0] = np.finfo(np.float).tiny\n",
    "    return np.log(nx.laplacian_spectrum(graph))"
   ]
  },
  {
   "cell_type": "code",
   "execution_count": 64,
   "metadata": {
    "collapsed": true
   },
   "outputs": [],
   "source": [
    "def laplacian_spectrum(graph):\n",
    "    a = nx.laplacian_spectrum(graph)\n",
    "    a[a < 0] = np.finfo(np.float).tiny\n",
    "    return a"
   ]
  },
  {
   "cell_type": "code",
   "execution_count": 72,
   "metadata": {
    "collapsed": false
   },
   "outputs": [
    {
     "name": "stdout",
     "output_type": "stream",
     "text": [
      "[  2.22507386e-308   5.15363646e-002   1.94031510e-001   2.59571692e-001\n",
      "   3.22385147e-001   4.00214083e-001   5.83196772e-001   8.17136743e-001\n",
      "   8.34523838e-001   1.07199275e+000   1.18176545e+000   1.38196601e+000\n",
      "   1.46439062e+000   1.91380991e+000   2.09147534e+000   2.38312101e+000\n",
      "   2.44595670e+000   2.74147163e+000   2.76634344e+000   3.00000000e+000\n",
      "   3.25373258e+000   3.38014595e+000   3.53158383e+000   3.61803399e+000\n",
      "   3.76961908e+000   3.88328625e+000   3.96848017e+000   4.25906268e+000\n",
      "   4.82874192e+000   5.60242453e+000]\n",
      "[ 1.          0.05153636  0.19403151  0.25957169  0.32238515  0.40021408\n",
      "  0.58319677  0.81713674  0.83452384  1.07199275  1.18176545  1.38196601\n",
      "  1.46439062  1.91380991  2.09147534  2.38312101  2.4459567   2.74147163\n",
      "  2.76634344  3.          3.25373258  3.38014595  3.53158383  3.61803399\n",
      "  3.76961908  3.88328625  3.96848017  4.25906268  4.82874192  5.60242453]\n"
     ]
    },
    {
     "name": "stderr",
     "output_type": "stream",
     "text": [
      "/usr/local/lib/python2.7/site-packages/ipykernel/__main__.py:4: RuntimeWarning: divide by zero encountered in log\n",
      "/usr/local/lib/python2.7/site-packages/ipykernel/__main__.py:4: RuntimeWarning: invalid value encountered in log\n"
     ]
    },
    {
     "data": {
      "text/plain": [
       "nan"
      ]
     },
     "execution_count": 72,
     "metadata": {},
     "output_type": "execute_result"
    }
   ],
   "source": [
    "KLD_entropy_laplacian(small_world, laplacian_spectrum, laplacian_spectrum_log)"
   ]
  },
  {
   "cell_type": "markdown",
   "metadata": {
    "collapsed": true
   },
   "source": [
    "rg_sparse = nx.to_scipy_sparse_matrix(rg)\n",
    "file_to_dump = open('random_graph_n1000_p1_sparse.pickle', 'w')\n",
    "pickle.dump(rg_sparse, file_to_dump)\n",
    "file_to_dump.close()"
   ]
  }
 ],
 "metadata": {
  "kernelspec": {
   "display_name": "Python 2",
   "language": "python",
   "name": "python2"
  },
  "language_info": {
   "codemirror_mode": {
    "name": "ipython",
    "version": 2
   },
   "file_extension": ".py",
   "mimetype": "text/x-python",
   "name": "python",
   "nbconvert_exporter": "python",
   "pygments_lexer": "ipython2",
   "version": "2.7.10"
  }
 },
 "nbformat": 4,
 "nbformat_minor": 0
}
