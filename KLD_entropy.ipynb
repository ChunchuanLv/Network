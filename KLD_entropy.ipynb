{
 "cells": [
  {
   "cell_type": "code",
   "execution_count": null,
   "metadata": {
    "collapsed": false
   },
   "outputs": [],
   "source": [
    "import networkx as nx\n",
    "import numpy as np\n",
    "import scipy.stats\n",
    "import pickle"
   ]
  },
  {
   "cell_type": "code",
   "execution_count": null,
   "metadata": {
    "collapsed": true
   },
   "outputs": [],
   "source": [
    "def KLD_entropy(graph, characteristic, characteristic_random_logprob):\n",
    "    degree_total_g = sum(graph.degree().values())\n",
    "    n = len(graph.nodes())\n",
    "    p = float(degree_total_g) / float(n) / float(n-1)\n",
    "    random_graph = nx.erdos_renyi_graph(n, p)\n",
    "    a = characteristic(graph)\n",
    "    b = characteristic_random_logprob(n, p)\n",
    "    a_non_zero = a[np.nonzero(a)]\n",
    "    S = 0\n",
    "    S += np.sum(np.multiply(a_non_zero, np.log(a_non_zero)))\n",
    "    S += np.sum(np.multiply(-a, b))\n",
    "    return S"
   ]
  },
  {
   "cell_type": "code",
   "execution_count": null,
   "metadata": {
    "collapsed": true
   },
   "outputs": [],
   "source": [
    "def degree_distribution(graph):\n",
    "    a = np.bincount(graph.degree().values())\n",
    "    a.resize(len(graph.nodes()))\n",
    "    a = a.astype(np.float)\n",
    "    a = np.divide(a, np.sum(a))\n",
    "    return a"
   ]
  },
  {
   "cell_type": "code",
   "execution_count": null,
   "metadata": {
    "collapsed": false
   },
   "outputs": [],
   "source": [
    "def degree_distribution_random_logprob(n, p):\n",
    "    pdf = []\n",
    "    for i in xrange(n):\n",
    "        pdf.append(scipy.stats.binom.logpmf(i, n-1, p))\n",
    "        \n",
    "    pdf = np.array(pdf)\n",
    "    \n",
    "    pdf[pdf == -np.inf] = np.iinfo(np.int).min\n",
    "    \n",
    "    return pdf"
   ]
  },
  {
   "cell_type": "code",
   "execution_count": null,
   "metadata": {
    "collapsed": false,
    "scrolled": false
   },
   "outputs": [],
   "source": [
    "n = 2000\n",
    "K_5 = nx.complete_graph(n)\n",
    "maze=nx.sedgewick_maze_graph()\n",
    "k_reg = nx.random_regular_graph(n/2, n)"
   ]
  },
  {
   "cell_type": "code",
   "execution_count": null,
   "metadata": {
    "collapsed": true
   },
   "outputs": [],
   "source": [
    "rg = nx.erdos_renyi_graph(n, 0.1)"
   ]
  },
  {
   "cell_type": "code",
   "execution_count": null,
   "metadata": {
    "collapsed": false
   },
   "outputs": [],
   "source": [
    "KLD_entropy(k_reg, degree_distribution, degree_distribution_random_logprob)"
   ]
  },
  {
   "cell_type": "markdown",
   "metadata": {
    "collapsed": true
   },
   "source": [
    "rg_sparse = nx.to_scipy_sparse_matrix(rg)\n",
    "file_to_dump = open('random_graph_n1000_p1_sparse.pickle', 'w')\n",
    "pickle.dump(rg_sparse, file_to_dump)\n",
    "file_to_dump.close()"
   ]
  }
 ],
 "metadata": {
  "kernelspec": {
   "display_name": "Python 2",
   "language": "python",
   "name": "python2"
  },
  "language_info": {
   "codemirror_mode": {
    "name": "ipython",
    "version": 2
   },
   "file_extension": ".py",
   "mimetype": "text/x-python",
   "name": "python",
   "nbconvert_exporter": "python",
   "pygments_lexer": "ipython2",
   "version": "2.7.10"
  }
 },
 "nbformat": 4,
 "nbformat_minor": 0
}
